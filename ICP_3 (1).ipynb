{
  "cells": [
    {
      "cell_type": "code",
      "source": [
        "#In class programming:\n",
        "# 1. Create a class Employee and then do the following\n",
        "# • Create a data member to count the number of Employees\n",
        "# • Create a constructor to initialize name, family, salary, department\n",
        "# • Create a function to average salary\n",
        "# • Create a Fulltime Employee class and it should inherit the properties of Employee class\n",
        "# • Create the instances of Fulltime Employee class and Employee class and call their member functions."
      ],
      "metadata": {
        "id": "0IiuG09OBDTo"
      },
      "id": "0IiuG09OBDTo",
      "execution_count": 10,
      "outputs": []
    },
    {
      "cell_type": "code",
      "source": [
        "class Employee:\n",
        "    \"\"\"\n",
        "    Generic Employee class with name, family, salary and department\n",
        "    \"\"\"\n",
        "\n",
        "    # data member to count the number of Employees\n",
        "    no_of_employees = 0\n",
        "\n",
        "    def __init__(self, name, family_name, salary, department):\n",
        "        self.__name = name\n",
        "        self.__family_name = family_name\n",
        "        self.salary = salary\n",
        "        self.__department = department\n",
        "        Employee.no_of_employees += 1  #a=a+1    a+=1\n",
        "\n",
        "    @staticmethod\n",
        "    def average_salary(employees):\n",
        "        \"\"\"\n",
        "        function to average salary\n",
        "        \"\"\"\n",
        "        sum = 0\n",
        "        for employee in employees:\n",
        "            sum += employee.salary\n",
        "        return sum / Employee.no_of_employees\n",
        "\n",
        "\n",
        "class FulltimeEmployee(Employee):\n",
        "    \"\"\"\n",
        "    Full Time Employee is a sub class of Employee\n",
        "    \"\"\"\n",
        "\n",
        "    def __init__(self, name, family_name, salary, department):\n",
        "        super().__init__(name, family_name, salary, department)\n",
        "\n",
        "    def full_time_benefits(self):\n",
        "        print(\"Few benefits as full time employee.\")\n",
        "\n",
        "\n",
        "def main():\n",
        "    employees = []\n",
        "    fte1 = FulltimeEmployee(\"Employee1\", \"FamilyName1\", 120000, \"Management\")\n",
        "    fte1.full_time_benefits()\n",
        "    employees.append(fte1)\n",
        "    fte2 = FulltimeEmployee(\"Employee2\", \"FamilyName2\", 180000, \"RnD\")\n",
        "    employees.append(fte2)\n",
        "    emp1 = Employee(\"Employee3\", \"FamilyName3\", 160000, \"Marketing\")\n",
        "    employees.append(emp1)\n",
        "    emp2 = Employee(\"Employee4\", \"FamilyName4\", 135000, \"HR\")\n",
        "    employees.append(emp2)\n",
        "    print(\"Average salary:\", FulltimeEmployee.average_salary(employees))\n",
        "\n",
        "\n",
        "if __name__ == \"__main__\": #revoking  the main function\n",
        "    main()"
      ],
      "metadata": {
        "colab": {
          "base_uri": "https://localhost:8080/"
        },
        "id": "E5Q9XQOdBS29",
        "outputId": "4697712f-80e3-42f7-9217-a5cea90ace44"
      },
      "id": "E5Q9XQOdBS29",
      "execution_count": 9,
      "outputs": [
        {
          "output_type": "stream",
          "name": "stdout",
          "text": [
            "Few benefits as full time employee.\n",
            "Average salary: 148750.0\n"
          ]
        }
      ]
    },
    {
      "cell_type": "code",
      "execution_count": 1,
      "id": "74988000",
      "metadata": {
        "colab": {
          "base_uri": "https://localhost:8080/"
        },
        "id": "74988000",
        "outputId": "66344fa7-7a87-4842-a903-3434b9e2a575"
      },
      "outputs": [
        {
          "output_type": "stream",
          "name": "stdout",
          "text": [
            "[[17.28496217  9.54710987  0.          6.4544158  10.90285218]\n",
            " [ 3.07767105  0.         13.61704921 15.94334051 16.23059947]\n",
            " [ 0.         12.87749898  9.94870617  9.42406751 17.55273446]\n",
            " [10.0135727   0.         10.75807659 14.10727285  4.45711656]]\n"
          ]
        }
      ],
      "source": [
        "import numpy as np\n",
        "\n",
        "\n",
        "def replace_maxmium(array, replace_value, axis):\n",
        "    \"\"\" choose from x or y depending on condition: np.where(condition, x, y) \"\"\"  # defing function and passing arguments\n",
        "    output = np.where(array == np.max(\n",
        "        array, axis=1).reshape(-1, 1), 0 * array, array)\n",
        "    return output\n",
        "\n",
        "\n",
        "\n",
        "\n",
        "# Using NumPy create random vector of size 20 having only float\n",
        "# in the range 1-20.\n",
        "\n",
        "# continuous uniform distribution in [0, 1).\n",
        "# To sample Unif[a, b): (b - a) * random_sample() + a\n",
        "random20 = np.random.random_sample(20) * 20 + 1\n",
        "\n",
        "# Reshape the array to 4 by 5\n",
        "random20_4by5 = random20.reshape((4,5))\n",
        "\n",
        "# Replace the max in each row by 0(axis=1)\n",
        "print(replace_maxmium(random20_4by5, 0, 1))\n",
        "\n"
      ]
    },
    {
      "cell_type": "code",
      "execution_count": null,
      "id": "c42f9862",
      "metadata": {
        "id": "c42f9862"
      },
      "outputs": [],
      "source": []
    }
  ],
  "metadata": {
    "kernelspec": {
      "display_name": "Python 3 (ipykernel)",
      "language": "python",
      "name": "python3"
    },
    "language_info": {
      "codemirror_mode": {
        "name": "ipython",
        "version": 3
      },
      "file_extension": ".py",
      "mimetype": "text/x-python",
      "name": "python",
      "nbconvert_exporter": "python",
      "pygments_lexer": "ipython3",
      "version": "3.9.13"
    },
    "colab": {
      "provenance": []
    }
  },
  "nbformat": 4,
  "nbformat_minor": 5
}